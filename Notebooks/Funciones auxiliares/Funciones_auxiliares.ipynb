{
 "cells": [
  {
   "cell_type": "code",
   "execution_count": null,
   "metadata": {},
   "outputs": [],
   "source": [
    "import seaborn as sns\n",
    "import matplotlib.pyplot as plt"
   ]
  },
  {
   "cell_type": "code",
   "execution_count": null,
   "metadata": {},
   "outputs": [],
   "source": [
    "def plot_categoricals(colums=2, ncols=2):\n",
    "    \"\"\"gráfica las variables categóricas de un dataframe\n",
    "\n",
    "    Args:\n",
    "        colums (list): Lista con las columnas a graficar\n",
    "        ncols (int, optional): Defaults to 2.\n",
    "    \"\"\"    \n",
    "    nplot = len(colums) # Número de gráficos a mostrar\n",
    "    nrows = (nplot // ncols) + 1 # Número de filas de gráficos\n",
    "    fig, axes = plt.subplots(nrows, ncols, figsize=(\n",
    "        15, 30), constrained_layout=True) # Creación de la figura\n",
    "    for row in range(nrows):\n",
    "        for col in range(ncols):\n",
    "            title = colums[row+col] # Título del gráfico\n",
    "            sns.countplot(data=df, x=title, hue='Churn', ax=axes[row, col]) # Gráfico\n",
    "            axes[row, col].set_title('COUNT ' + title.upper()) # Título del gráfico\n",
    "            axes[row, col].set_xlabel(title) # Título del eje x\n",
    "            axes[row, col].set_ylabel('Count') # Título del eje y\n",
    "            axes[row, col].legend() # Leyenda\n",
    "    fig.tight_layout() # Ajuste de la figura\n",
    "    plt.show()\n"
   ]
  }
 ],
 "metadata": {
  "kernelspec": {
   "display_name": "Python 3",
   "language": "python",
   "name": "python3"
  },
  "language_info": {
   "name": "python",
   "version": "3.10.9"
  },
  "orig_nbformat": 4,
  "vscode": {
   "interpreter": {
    "hash": "3ef6e1a8a3224157454c386edfa56ccf69617aaa84c3186f555e7c602618dd7d"
   }
  }
 },
 "nbformat": 4,
 "nbformat_minor": 2
}
